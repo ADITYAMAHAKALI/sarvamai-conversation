{
 "cells": [
  {
   "cell_type": "markdown",
   "id": "65c8b55e",
   "metadata": {},
   "source": [
    "# Sarvam AI Pipeline Notebook 📓  \n",
    "**STT → Translation → TTS** (with optional Transliteration)  \n",
    "*Generated on 2025-07-04*  \n",
    "\n",
    "This Colab/Jupyter notebook demonstrates:  \n",
    "\n",
    "1. **Speech‑to‑Text (STT)** using the `saarika:v2.5` model  \n",
    "2. **Text Translation** using `sarvam‑translate`  \n",
    "3. **Text‑to‑Speech (TTS)** with the **Bulbul** model  \n",
    "4. (Optional) **Transliteration** examples (Romanisation ↔ Indic, numeral options)  \n",
    "\n",
    "> 👉 Replace placeholders like `YOUR_SARVAM_API_KEY` with your real key.  \n"
   ]
  },
  {
   "cell_type": "code",
   "execution_count": 1,
   "id": "9c0dae19",
   "metadata": {},
   "outputs": [
    {
     "name": "stdout",
     "output_type": "stream",
     "text": [
      "\u001b[2mResolved \u001b[1m80 packages\u001b[0m \u001b[2min 81ms\u001b[0m\u001b[0m\n",
      "\u001b[2mAudited \u001b[1m74 packages\u001b[0m \u001b[2min 0.14ms\u001b[0m\u001b[0m\n"
     ]
    }
   ],
   "source": [
    "!uv add sarvamai"
   ]
  },
  {
   "cell_type": "code",
   "execution_count": 2,
   "id": "3218310d",
   "metadata": {},
   "outputs": [],
   "source": [
    "from sarvamai import SarvamAI\n",
    "from sarvamai.play import play, save\n",
    "import os, sys, json"
   ]
  },
  {
   "cell_type": "markdown",
   "id": "c2f2e7bf",
   "metadata": {},
   "source": [
    "## 🔑 Set your API key"
   ]
  },
  {
   "cell_type": "code",
   "execution_count": 3,
   "id": "5b073990",
   "metadata": {},
   "outputs": [],
   "source": [
    "from dotenv import load_dotenv\n",
    "load_dotenv()\n",
    "SARVAM_API_KEY = os.getenv(\"SARVAM_API_KEY\") or \"YOUR_SARVAM_API_KEY\"  # ⬅️ EDIT ME\n",
    "client = SarvamAI(api_subscription_key=SARVAM_API_KEY)"
   ]
  },
  {
   "cell_type": "markdown",
   "id": "53a7c80a",
   "metadata": {},
   "source": [
    "## 🎙 Upload or provide audio file (.wav / .mp3)"
   ]
  },
  {
   "cell_type": "code",
   "execution_count": 4,
   "id": "dca83840",
   "metadata": {},
   "outputs": [
    {
     "name": "stdout",
     "output_type": "stream",
     "text": [
      "✅ Using audio: ./sample_hindi.wav\n"
     ]
    }
   ],
   "source": [
    "def get_audio_file():\n",
    "    supported = ['.wav', '.mp3']\n",
    "    if 'google.colab' in sys.modules:\n",
    "        from google.colab import files\n",
    "        uploaded = files.upload()\n",
    "        if not uploaded:\n",
    "            return None\n",
    "        path = list(uploaded.keys())[0]\n",
    "    else:\n",
    "        path = input(\"Enter path to .wav / .mp3 file: \").strip()\n",
    "    if not os.path.exists(path):\n",
    "        print(\"❌ File not found:\", path); return None\n",
    "    if os.path.splitext(path)[1].lower() not in supported:\n",
    "        print(\"❌ Unsupported format.\"); return None\n",
    "    print(\"✅ Using audio:\", path)\n",
    "    return path\n",
    "\n",
    "audio_file_path = get_audio_file()"
   ]
  },
  {
   "cell_type": "markdown",
   "id": "4ed01f6b",
   "metadata": {},
   "source": [
    "## 📝 Step 1 – Speech‑to‑Text (Saarika v2.5)"
   ]
  },
  {
   "cell_type": "code",
   "execution_count": 10,
   "id": "9e658712",
   "metadata": {},
   "outputs": [
    {
     "name": "stdout",
     "output_type": "stream",
     "text": [
      "🗣️ Transcribed Text: request_id='20250704_409b95aa-7e50-4e4b-9107-a81989a53751' transcript='केशव के घर में चार खिड़कियां हैं।\\nकई लोग कुमार को पसंद करते हैं।\\nतुम्हारे खरगोश का रंग सफेद है।\\nआपकी गाय कल से यहां है।\\nकल का खाना सुलेखा घी डालकर बनाएगी।\\nअक्षय की खीर गरम हो गई।\\nमैंने कल ख्वाब में एक खूबसूरत' timestamps=None diarized_transcript=None language_code='hi-IN'\n",
      "CPU times: user 7.96 ms, sys: 10.5 ms, total: 18.5 ms\n",
      "Wall time: 965 ms\n"
     ]
    }
   ],
   "source": [
    "%%time\n",
    "if audio_file_path:\n",
    "    with open(audio_file_path, 'rb') as f:\n",
    "        stt_resp = client.speech_to_text.transcribe(\n",
    "            file=f,\n",
    "            model='saarika:v2.5',\n",
    "            language_code='unknown'  # auto‑detect\n",
    "        )\n",
    "    print(\"🗣️ Transcribed Text:\", stt_resp)\n",
    "    original_text = stt_resp.transcript\n",
    "    detected_lang = stt_resp.language_code\n",
    "else:\n",
    "    raise ValueError('No audio file - abort.')"
   ]
  },
  {
   "cell_type": "markdown",
   "id": "3209f844",
   "metadata": {},
   "source": [
    "## 🌐 Step 2 – Translate Text"
   ]
  },
  {
   "cell_type": "code",
   "execution_count": 13,
   "id": "b5227628",
   "metadata": {},
   "outputs": [
    {
     "name": "stdout",
     "output_type": "stream",
     "text": [
      "Chunk 1:\n",
      " ಕೇಶವ್ ಮನೆಗೆ ನಾಲ್ಕು ಕಿಟಕಿಗಳಿವೆ.\n",
      "ಕುಮಾರ್ ಎಂದರೆ ಹಲವರಿಗೆ ಇಷ್ಟ.\n",
      "ನಿಮ್ಮ ಮೊಲ ಬಿಳಿ ಬಣ್ಣದಲ್ಲಿದೆ.\n",
      "ನಿಮ್ಮ ಹಸು ನಿನ್ನೆ ಇಲ್ಲಿಗೆ ಬಂದಿದೆ.\n",
      "ನಿನ್ನೆಯ ಅಡುಗೆಯನ್ನು ತುಪ್ಪದಲ್ಲಿ ಅವಳು ಮಾಡ್ತಾಳೆ.\n",
      "ಅಕ್ಷಯ್ ಖೀರ್ ಬಿಸಿಯಾಗಿದೆ.\n",
      "ನಿನ್ನೆ ನನಗೆ ಒಂದು ಸುಂದರವಾದ ಕನಸು ಬಿತ್ತು. \n",
      "\n",
      "📝 Final Translation: ಕೇಶವ್ ಮನೆಗೆ ನಾಲ್ಕು ಕಿಟಕಿಗಳಿವೆ.\n",
      "ಕುಮಾರ್ ಎಂದರೆ ಹಲವರಿಗೆ ಇಷ್ಟ.\n",
      "ನಿಮ್ಮ ಮೊಲ ಬಿಳಿ ಬಣ್ಣದಲ್ಲಿದೆ.\n",
      "ನಿಮ್ಮ ಹಸು ನಿನ್ನೆ ಇಲ್ಲಿಗೆ ಬಂದಿದೆ.\n",
      "ನಿನ್ನೆಯ ಅಡುಗೆಯನ್ನು ತುಪ್ಪದಲ್ಲಿ ಅವಳು ಮಾಡ್ತಾಳೆ.\n",
      "ಅಕ್ಷಯ್ ಖೀರ್ ಬಿಸಿಯಾಗಿದೆ.\n",
      "ನಿನ್ನೆ ನನಗೆ ಒಂದು ಸುಂದರವಾದ ಕನಸು ಬಿತ್ತು.\n",
      "CPU times: user 4.95 ms, sys: 4.52 ms, total: 9.47 ms\n",
      "Wall time: 1.1 s\n"
     ]
    }
   ],
   "source": [
    "%%time\n",
    "# Example detected_lang and text\n",
    "detected_lang = detected_lang if detected_lang != \"unknown\" else \"hi-IN\"\n",
    "translated_texts = []\n",
    "chunks = [original_text]  # You can replace this with actual chunking if needed\n",
    "\n",
    "for idx, chunk in enumerate(chunks):\n",
    "    resp = client.text.translate(\n",
    "        input=chunk,\n",
    "        source_language_code=detected_lang,\n",
    "        target_language_code=TARGET_LANG,\n",
    "        speaker_gender=\"Male\",\n",
    "        mode=\"formal\",\n",
    "        model=\"sarvam-translate:v1\",\n",
    "        enable_preprocessing=False,\n",
    "    )\n",
    "    print(f\"Chunk {idx + 1}:\\n\", resp.translated_text, \"\\n\")\n",
    "    translated_texts.append(resp.translated_text)\n",
    "\n",
    "translated_text = \"\\\\n\".join(translated_texts)\n",
    "print(\"📝 Final Translation:\", translated_text)"
   ]
  },
  {
   "cell_type": "markdown",
   "id": "f14f7122",
   "metadata": {},
   "source": [
    "## 🔊 Step 3 – Generate Speech (Bulbul)"
   ]
  },
  {
   "cell_type": "code",
   "execution_count": 15,
   "id": "68d9e35a",
   "metadata": {},
   "outputs": [
    {
     "name": "stdout",
     "output_type": "stream",
     "text": [
      "💾 Saved to output_audio.wav\n"
     ]
    }
   ],
   "source": [
    "tts_resp = client.text_to_speech.convert(\n",
    "    text=translated_text,\n",
    "    target_language_code=f\"{TARGET_LANG}\" if TARGET_LANG!='en' else \"en-IN\",\n",
    "    speaker=\"anushka\",             # female voice; change as desired\n",
    "    enable_preprocessing=True\n",
    ")\n",
    "# Play inline (Colab/Jupyter)\n",
    "play(tts_resp)\n",
    "# Save to file\n",
    "save(tts_resp, \"output_audio.wav\")\n",
    "print(\"💾 Saved to output_audio.wav\")"
   ]
  },
  {
   "cell_type": "markdown",
   "id": "0b49ae1e",
   "metadata": {},
   "source": [
    "## 🔡 (Optional) Transliteration Examples"
   ]
  },
  {
   "cell_type": "code",
   "execution_count": 16,
   "id": "45ff6638",
   "metadata": {},
   "outputs": [
    {
     "name": "stdout",
     "output_type": "stream",
     "text": [
      "Original Hindi: मुझे कल 9:30am को appointment है\n",
      "Romanised: Muale ko kal 9:30am ko appointment hai\n",
      "Back to Hindi: मुआले को कल साढ़े नौ बजे ए.एम को अपॉइंटमेंट है\n",
      "Native numerals: मुझे कल सुबह साढ़े नौ बजे अपॉइंटमेंट है\n",
      "English-style numerals: मुझे कल नाइन थर्टी ए एम को अपॉइंटमेंट है\n"
     ]
    }
   ],
   "source": [
    "hin_text = \"मुझे कल 9:30am को appointment है\"\n",
    "print(\"Original Hindi:\", hin_text)\n",
    "\n",
    "# Indic → Roman\n",
    "roman = client.text.transliterate(\n",
    "    input=hin_text,\n",
    "    source_language_code=\"hi-IN\",\n",
    "    target_language_code=\"en-IN\",\n",
    "    spoken_form=True\n",
    ").transliterated_text\n",
    "print(\"Romanised:\", roman)\n",
    "\n",
    "# Roman → Indic\n",
    "back = client.text.transliterate(\n",
    "    input=roman,\n",
    "    source_language_code=\"hi-IN\",\n",
    "    target_language_code=\"hi-IN\",\n",
    "    spoken_form=True\n",
    ").transliterated_text\n",
    "print(\"Back to Hindi:\", back)\n",
    "\n",
    "# Native vs English numerals speech\n",
    "native_num = client.text.transliterate(\n",
    "    input=hin_text,\n",
    "    source_language_code=\"hi-IN\",\n",
    "    target_language_code=\"hi-IN\",\n",
    "    spoken_form=True,\n",
    "    numerals_format=\"native\"\n",
    ").transliterated_text\n",
    "print(\"Native numerals:\", native_num)\n",
    "\n",
    "eng_num = client.text.transliterate(\n",
    "    input=hin_text,\n",
    "    source_language_code=\"hi-IN\",\n",
    "    target_language_code=\"hi-IN\",\n",
    "    spoken_form=True,\n",
    "    spoken_form_numerals_language=\"english\"\n",
    ").transliterated_text\n",
    "print(\"English-style numerals:\", eng_num)"
   ]
  },
  {
   "cell_type": "code",
   "execution_count": null,
   "id": "86d3dfbc",
   "metadata": {},
   "outputs": [],
   "source": []
  }
 ],
 "metadata": {
  "kernelspec": {
   "display_name": "sarvam-api",
   "language": "python",
   "name": "python3"
  },
  "language_info": {
   "codemirror_mode": {
    "name": "ipython",
    "version": 3
   },
   "file_extension": ".py",
   "mimetype": "text/x-python",
   "name": "python",
   "nbconvert_exporter": "python",
   "pygments_lexer": "ipython3",
   "version": "3.12.11"
  }
 },
 "nbformat": 4,
 "nbformat_minor": 5
}
